{
 "cells": [
  {
   "cell_type": "code",
   "execution_count": null,
   "metadata": {},
   "outputs": [],
   "source": [
    "%pip install openai"
   ]
  },
  {
   "cell_type": "code",
   "execution_count": 3,
   "metadata": {},
   "outputs": [
    {
     "name": "stdout",
     "output_type": "stream",
     "text": [
      "0 Style: concise,  Rating: 1\n",
      "1 Style: verbose,  Rating: 0\n",
      "2 Style: concise,  Rating: 1\n",
      "3 Style: verbose,  Rating: 0\n",
      "4 Style: concise,  Rating: 1\n",
      "5 Style: verbose,  Rating: 0\n",
      "6 Style: concise,  Rating: 1\n",
      "7 Style: verbose,  Rating: 0\n",
      "8 Style: concise,  Rating: 1\n",
      "9 Style: verbose,  Rating: 0\n"
     ]
    }
   ],
   "source": [
    "from openai import OpenAI\n",
    "import os\n",
    "\n",
    "client = OpenAI(api_key=os.environ.get(\"OPENAI_API_KEY\"))\n",
    "\n",
    "responses = []\n",
    "\n",
    "for i in range(10):\n",
    "    # concise if even, verbose if odd\n",
    "    style = \"concise\" if i % 2 == 0 else \"verbose\"\n",
    "\n",
    "    if style == \"concise\":\n",
    "        prompt = f\"Return a {style} answer to the following question: What is the meaning of life?\"\n",
    "    else:\n",
    "        prompt = f\"Return an answer to the following question: What is the meaning of life?\"\n",
    "\n",
    "    response = client.chat.completions.create(\n",
    "        # using GPT-3.5 Turbo for this example\n",
    "        model=\"gpt-3.5-turbo\",\n",
    "        messages=[{\"role\": \"user\",\n",
    "            \"content\": prompt}])\n",
    "    responses.append(response.choices[0].message.content.strip())\n",
    "\n",
    "system_prompt = \"\"\"You are assessing the conciseness of a response from a chatbot. \n",
    "You only respond with a 1 if the response is concise, and a 0 if it is not.\n",
    "\"\"\"\n",
    "\n",
    "ratings = []\n",
    "\n",
    "for idx, response in enumerate(responses):\n",
    "    rating = client.chat.completions.create(\n",
    "        model=\"gpt-4\",\n",
    "        messages=[{\"role\": \"system\",\n",
    "            \"content\": system_prompt},\n",
    "            {\"role\": \"system\",\n",
    "            \"content\": response}])\n",
    "    ratings.append(rating.choices[0].message.content.strip())\n",
    "\n",
    "for idx, rating in enumerate(ratings):\n",
    "    style = \"concise\" if idx % 2 == 0 else \"verbose\"\n",
    "    print(f\"{idx} Style: {style}, \", f\"Rating: {rating}\")"
   ]
  },
  {
   "cell_type": "code",
   "execution_count": null,
   "metadata": {},
   "outputs": [],
   "source": []
  }
 ],
 "metadata": {
  "kernelspec": {
   "display_name": "Python 3 (ipykernel)",
   "language": "python",
   "name": "python3"
  },
  "language_info": {
   "codemirror_mode": {
    "name": "ipython",
    "version": 3
   },
   "file_extension": ".py",
   "mimetype": "text/x-python",
   "name": "python",
   "nbconvert_exporter": "python",
   "pygments_lexer": "ipython3",
   "version": "3.9.12"
  }
 },
 "nbformat": 4,
 "nbformat_minor": 4
}
